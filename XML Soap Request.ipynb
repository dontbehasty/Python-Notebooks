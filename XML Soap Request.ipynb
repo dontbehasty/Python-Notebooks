{
 "cells": [
  {
   "cell_type": "markdown",
   "id": "8c946216",
   "metadata": {},
   "source": [
    "# XML Soap Request"
   ]
  },
  {
   "cell_type": "markdown",
   "id": "eada5132",
   "metadata": {},
   "source": [
    "SOAP provides a way to communicate between applications running on different operating systems, with different technologies and programming languages.\n",
    "\n",
    "- SOAP stands for Simple Object Access Protocol\n",
    "- SOAP is an application communication protocol\n",
    "- SOAP is a format for sending and receiving messages\n",
    "- SOAP is platform independent\n",
    "- SOAP is based on XML\n",
    "- SOAP is a W3C recommendation\n",
    "\n",
    "A SOAP message is an ordinary XML document containing the following elements:\n",
    "- An Envelope element that identifies the XML document as a SOAP message\n",
    "- A Header element that contains header information\n",
    "- A Body element that contains call and response information\n",
    "- A Fault element containing errors and status information\n"
   ]
  },
  {
   "cell_type": "markdown",
   "id": "75bb1f47",
   "metadata": {},
   "source": [
    "### TempConvert - CelsiusToFahrenheit"
   ]
  },
  {
   "cell_type": "code",
   "execution_count": 14,
   "id": "8d3225f1",
   "metadata": {},
   "outputs": [],
   "source": [
    "import requests"
   ]
  },
  {
   "cell_type": "code",
   "execution_count": 15,
   "id": "8a468541",
   "metadata": {},
   "outputs": [
    {
     "name": "stdout",
     "output_type": "stream",
     "text": [
      "b'<?xml version=\"1.0\" encoding=\"utf-8\"?><soap:Envelope xmlns:soap=\"http://schemas.xmlsoap.org/soap/envelope/\" xmlns:xsi=\"http://www.w3.org/2001/XMLSchema-instance\" xmlns:xsd=\"http://www.w3.org/2001/XMLSchema\"><soap:Body><CelsiusToFahrenheitResponse xmlns=\"https://www.w3schools.com/xml/\"><CelsiusToFahrenheitResult>75.2</CelsiusToFahrenheitResult></CelsiusToFahrenheitResponse></soap:Body></soap:Envelope>'\n"
     ]
    }
   ],
   "source": [
    "# Define the URL of the SOAP service\n",
    "url = \"https://www.w3schools.com/xml/tempconvert.asmx\"\n",
    "\n",
    "# Define the SOAP request body\n",
    "soap_request = \"\"\"\n",
    "<soap:Envelope xmlns:xsi=\"http://www.w3.org/2001/XMLSchema-instance\" xmlns:xsd=\"http://www.w3.org/2001/XMLSchema\" xmlns:soap=\"http://schemas.xmlsoap.org/soap/envelope/\">\n",
    "  <soap:Body>\n",
    "    <CelsiusToFahrenheit xmlns=\"https://www.w3schools.com/xml/\">\n",
    "      <Celsius>24</Celsius>\n",
    "    </CelsiusToFahrenheit>\n",
    "  </soap:Body>\n",
    "</soap:Envelope>\n",
    "\"\"\"\n",
    "\n",
    "# Make the SOAP request with basic authentication\n",
    "response = requests.post(url, data=soap_request, headers={\"Content-Type\": \"text/xml\"})\n",
    "\n",
    "# Print the response\n",
    "print(response.content)"
   ]
  },
  {
   "cell_type": "code",
   "execution_count": 16,
   "id": "576e2593",
   "metadata": {},
   "outputs": [
    {
     "name": "stdout",
     "output_type": "stream",
     "text": [
      "b'<?xml version=\"1.0\" encoding=\"utf-8\"?><soap:Envelope xmlns:soap=\"http://schemas.xmlsoap.org/soap/envelope/\" xmlns:xsi=\"http://www.w3.org/2001/XMLSchema-instance\" xmlns:xsd=\"http://www.w3.org/2001/XMLSchema\"><soap:Body><CelsiusToFahrenheitResponse xmlns=\"https://www.w3schools.com/xml/\"><CelsiusToFahrenheitResult>75.2</CelsiusToFahrenheitResult></CelsiusToFahrenheitResponse></soap:Body></soap:Envelope>'\n"
     ]
    }
   ],
   "source": [
    "# Define the URL of the SOAP service\n",
    "url = \"https://www.w3schools.com/xml/tempconvert.asmx\"\n",
    "\n",
    "# Define the SOAP request body with a variable included\n",
    "celsius_temp = \"24\"\n",
    "\n",
    "soap_request = f\"\"\"\n",
    "<soap:Envelope xmlns:xsi=\"http://www.w3.org/2001/XMLSchema-instance\" xmlns:xsd=\"http://www.w3.org/2001/XMLSchema\" xmlns:soap=\"http://schemas.xmlsoap.org/soap/envelope/\">\n",
    "  <soap:Body>\n",
    "    <CelsiusToFahrenheit xmlns=\"https://www.w3schools.com/xml/\">\n",
    "      <Celsius>{celsius_temp}</Celsius>\n",
    "    </CelsiusToFahrenheit>\n",
    "  </soap:Body>\n",
    "</soap:Envelope>\n",
    "\"\"\"\n",
    "\n",
    "# Make the SOAP request with basic authentication\n",
    "response = requests.post(url, data=soap_request, headers={\"Content-Type\": \"text/xml\"})\n",
    "\n",
    "# Print the response\n",
    "print(response.content)"
   ]
  },
  {
   "cell_type": "code",
   "execution_count": null,
   "id": "56c5a203",
   "metadata": {},
   "outputs": [],
   "source": []
  }
 ],
 "metadata": {
  "kernelspec": {
   "display_name": "Python 3 (ipykernel)",
   "language": "python",
   "name": "python3"
  },
  "language_info": {
   "codemirror_mode": {
    "name": "ipython",
    "version": 3
   },
   "file_extension": ".py",
   "mimetype": "text/x-python",
   "name": "python",
   "nbconvert_exporter": "python",
   "pygments_lexer": "ipython3",
   "version": "3.11.4"
  }
 },
 "nbformat": 4,
 "nbformat_minor": 5
}
